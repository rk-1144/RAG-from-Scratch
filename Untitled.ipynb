{
 "cells": [
  {
   "cell_type": "code",
   "execution_count": 1,
   "id": "fee5d764-8cbb-4f85-bc48-b278f15cf985",
   "metadata": {},
   "outputs": [
    {
     "name": "stdout",
     "output_type": "stream",
     "text": [
      "Collecting ollama\n",
      "  Using cached ollama-0.5.1-py3-none-any.whl.metadata (4.3 kB)\n",
      "Requirement already satisfied: httpx>=0.27 in /home/rudrakalyan/anaconda3/lib/python3.12/site-packages (from ollama) (0.27.0)\n",
      "Collecting pydantic>=2.9 (from ollama)\n",
      "  Downloading pydantic-2.11.7-py3-none-any.whl.metadata (67 kB)\n",
      "Requirement already satisfied: anyio in /home/rudrakalyan/anaconda3/lib/python3.12/site-packages (from httpx>=0.27->ollama) (4.2.0)\n",
      "Requirement already satisfied: certifi in /home/rudrakalyan/anaconda3/lib/python3.12/site-packages (from httpx>=0.27->ollama) (2024.8.30)\n",
      "Requirement already satisfied: httpcore==1.* in /home/rudrakalyan/anaconda3/lib/python3.12/site-packages (from httpx>=0.27->ollama) (1.0.2)\n",
      "Requirement already satisfied: idna in /home/rudrakalyan/anaconda3/lib/python3.12/site-packages (from httpx>=0.27->ollama) (3.7)\n",
      "Requirement already satisfied: sniffio in /home/rudrakalyan/anaconda3/lib/python3.12/site-packages (from httpx>=0.27->ollama) (1.3.0)\n",
      "Requirement already satisfied: h11<0.15,>=0.13 in /home/rudrakalyan/anaconda3/lib/python3.12/site-packages (from httpcore==1.*->httpx>=0.27->ollama) (0.14.0)\n",
      "Requirement already satisfied: annotated-types>=0.6.0 in /home/rudrakalyan/anaconda3/lib/python3.12/site-packages (from pydantic>=2.9->ollama) (0.6.0)\n",
      "Collecting pydantic-core==2.33.2 (from pydantic>=2.9->ollama)\n",
      "  Downloading pydantic_core-2.33.2-cp312-cp312-manylinux_2_17_x86_64.manylinux2014_x86_64.whl.metadata (6.8 kB)\n",
      "Collecting typing-extensions>=4.12.2 (from pydantic>=2.9->ollama)\n",
      "  Downloading typing_extensions-4.14.1-py3-none-any.whl.metadata (3.0 kB)\n",
      "Collecting typing-inspection>=0.4.0 (from pydantic>=2.9->ollama)\n",
      "  Downloading typing_inspection-0.4.1-py3-none-any.whl.metadata (2.6 kB)\n",
      "Using cached ollama-0.5.1-py3-none-any.whl (13 kB)\n",
      "Downloading pydantic-2.11.7-py3-none-any.whl (444 kB)\n",
      "Downloading pydantic_core-2.33.2-cp312-cp312-manylinux_2_17_x86_64.manylinux2014_x86_64.whl (2.0 MB)\n",
      "\u001b[2K   \u001b[38;2;114;156;31m━━━━━━━━━━━━━━━━━━━━━━━━━━━━━━━━━━━━━━━━\u001b[0m \u001b[32m2.0/2.0 MB\u001b[0m \u001b[31m5.9 MB/s\u001b[0m eta \u001b[36m0:00:00\u001b[0m MB/s\u001b[0m eta \u001b[36m0:00:01\u001b[0m\n",
      "\u001b[?25hDownloading typing_extensions-4.14.1-py3-none-any.whl (43 kB)\n",
      "Downloading typing_inspection-0.4.1-py3-none-any.whl (14 kB)\n",
      "Installing collected packages: typing-extensions, typing-inspection, pydantic-core, pydantic, ollama\n",
      "  Attempting uninstall: typing-extensions\n",
      "    Found existing installation: typing_extensions 4.11.0\n",
      "    Uninstalling typing_extensions-4.11.0:\n",
      "      Successfully uninstalled typing_extensions-4.11.0\n",
      "  Attempting uninstall: pydantic-core\n",
      "    Found existing installation: pydantic_core 2.20.1\n",
      "    Uninstalling pydantic_core-2.20.1:\n",
      "      Successfully uninstalled pydantic_core-2.20.1\n",
      "  Attempting uninstall: pydantic\n",
      "    Found existing installation: pydantic 2.8.2\n",
      "    Uninstalling pydantic-2.8.2:\n",
      "      Successfully uninstalled pydantic-2.8.2\n",
      "Successfully installed ollama-0.5.1 pydantic-2.11.7 pydantic-core-2.33.2 typing-extensions-4.14.1 typing-inspection-0.4.1\n"
     ]
    }
   ],
   "source": [
    "!pip install ollama"
   ]
  },
  {
   "cell_type": "code",
   "execution_count": 2,
   "id": "8c3427da-2b9f-4d7f-b0e7-37d5bd7d89da",
   "metadata": {},
   "outputs": [
    {
     "name": "stdout",
     "output_type": "stream",
     "text": [
      "Loaded 150 entries\n"
     ]
    }
   ],
   "source": [
    "dataset = []\n",
    "with open('cat_facts.txt', 'r') as file:\n",
    "  dataset = file.readlines()\n",
    "  print(f'Loaded {len(dataset)} entries')\n"
   ]
  },
  {
   "cell_type": "code",
   "execution_count": 4,
   "id": "aea20095-8346-4940-a794-0b014a04876a",
   "metadata": {},
   "outputs": [
    {
     "name": "stdout",
     "output_type": "stream",
     "text": [
      "150\n"
     ]
    }
   ],
   "source": [
    "dataset=[]\n",
    "with open(\"cat_facts.txt\",\"r\") as file:\n",
    "    dataset=file.readlines()\n",
    "    print(len(dataset))"
   ]
  },
  {
   "cell_type": "code",
   "execution_count": 24,
   "id": "c22721e3-a6d6-46f5-baa8-ee3dcb67c8cd",
   "metadata": {},
   "outputs": [
    {
     "name": "stdout",
     "output_type": "stream",
     "text": [
      "Collecting PyPDF2\n",
      "  Downloading pypdf2-3.0.1-py3-none-any.whl.metadata (6.8 kB)\n",
      "Downloading pypdf2-3.0.1-py3-none-any.whl (232 kB)\n",
      "Installing collected packages: PyPDF2\n",
      "Successfully installed PyPDF2-3.0.1\n"
     ]
    }
   ],
   "source": [
    "!pip install PyPDF2"
   ]
  },
  {
   "cell_type": "code",
   "execution_count": 26,
   "id": "773e36f1-69ff-4c00-b289-367dc2e02d77",
   "metadata": {},
   "outputs": [
    {
     "name": "stdout",
     "output_type": "stream",
     "text": [
      "Loaded 8 documents\n"
     ]
    }
   ],
   "source": [
    "from PyPDF2 import PdfReader\n",
    "import os\n",
    "dataset = []\n",
    "\n",
    "folder_path = 'Resumes/'  # folder containing the .pdf files\n",
    "\n",
    "for filename in os.listdir(folder_path):\n",
    "    if filename.endswith('.pdf'):\n",
    "        pdf_path = os.path.join(folder_path, filename)\n",
    "        reader = PdfReader(pdf_path)\n",
    "        \n",
    "        # Extract text from all pages of this PDF\n",
    "        text = ''\n",
    "        for page in reader.pages:\n",
    "            text += page.extract_text() or ''\n",
    "        \n",
    "        dataset.append(text.strip())\n",
    "\n",
    "print(f'Loaded {len(dataset)} documents')"
   ]
  },
  {
   "cell_type": "code",
   "execution_count": 27,
   "id": "ed52737c-50cc-419d-9d94-bdeef1d28435",
   "metadata": {},
   "outputs": [],
   "source": [
    "import ollama\n",
    "\n",
    "EMBEDDING_MODEL = 'hf.co/CompendiumLabs/bge-base-en-v1.5-gguf'\n",
    "LANGUAGE_MODEL = 'hf.co/bartowski/Llama-3.2-1B-Instruct-GGUF'\n",
    "\n",
    "# Each element in the VECTOR_DB will be a tuple (chunk, embedding)\n",
    "# The embedding is a list of floats, for example: [0.1, 0.04, -0.34, 0.21, ...]\n",
    "VECTOR_DB = []\n",
    "\n",
    "def add_chunk_to_database(chunk):\n",
    "  embedding = ollama.embed(model=EMBEDDING_MODEL, input=chunk)['embeddings'][0]\n",
    "  VECTOR_DB.append((chunk, embedding))\n"
   ]
  },
  {
   "cell_type": "code",
   "execution_count": 28,
   "id": "c40bcfb0-45b8-48b4-a863-6d3b0069e741",
   "metadata": {},
   "outputs": [
    {
     "name": "stdout",
     "output_type": "stream",
     "text": [
      "Added chunk 8/8 to the database\n"
     ]
    }
   ],
   "source": [
    "for i, chunk in enumerate(dataset):\n",
    "  add_chunk_to_database(chunk)\n",
    "print(f'Added chunk {i+1}/{len(dataset)} to the database')\n"
   ]
  },
  {
   "cell_type": "code",
   "execution_count": 29,
   "id": "99ca3b4d-8b02-4de9-b36a-529e71b853c4",
   "metadata": {},
   "outputs": [],
   "source": [
    "def cosine_similarity(a, b):\n",
    "  dot_product = sum([x * y for x, y in zip(a, b)])\n",
    "  norm_a = sum([x ** 2 for x in a]) ** 0.5\n",
    "  norm_b = sum([x ** 2 for x in b]) ** 0.5\n",
    "  return dot_product / (norm_a * norm_b)\n"
   ]
  },
  {
   "cell_type": "code",
   "execution_count": 30,
   "id": "2c359475-4fa6-4445-88de-a8e349613d31",
   "metadata": {},
   "outputs": [],
   "source": [
    "def retrieve(query, top_n=3):\n",
    "  query_embedding = ollama.embed(model=EMBEDDING_MODEL, input=query)['embeddings'][0]\n",
    "  # temporary list to store (chunk, similarity) pairs\n",
    "  similarities = []\n",
    "  for chunk, embedding in VECTOR_DB:\n",
    "    similarity = cosine_similarity(query_embedding, embedding)\n",
    "    similarities.append((chunk, similarity))\n",
    "  # sort by similarity in descending order, because higher similarity means more relevant chunks\n",
    "  similarities.sort(key=lambda x: x[1], reverse=True)\n",
    "  # finally, return the top N most relevant chunks\n",
    "  return similarities[:top_n]\n"
   ]
  },
  {
   "cell_type": "code",
   "execution_count": 41,
   "id": "9c7c8d35-4c30-4198-82af-7dc9732f6f51",
   "metadata": {},
   "outputs": [
    {
     "name": "stdin",
     "output_type": "stream",
     "text": [
      "Ask me a question:  IN WHICH SINGLE SEMESTER DID he got the highest SGPA? AND MENTION THAT SGPA\n"
     ]
    },
    {
     "name": "stdout",
     "output_type": "stream",
     "text": [
      "Retrieved knowledge:\n",
      " - (similarity: 0.47) NATIONAL INSTITUTE OF TECHNOLOGY WARANGAL  \n",
      "Warangal, Telangana, 506004  \n",
      "Website: nitw.ac.in\n",
      "           Result\n",
      "Name: Rudra Kalyan  Department of Electronics and Communication \n",
      "Engineering [ECE]\n",
      "Roll No.: 21ECB0B56 IV - Year, Even Semester\n",
      "Specialization: Electronics and Communication \n",
      "Engineering [BTechECE] Exam Session: 2024-2025 \n",
      " \n",
      "Subject Code Subject Name Credit Grade\n",
      "EC465 Organic Electronics 3 C\n",
      "EC499 Project Work 4 S\n",
      "EC471 Wireless Sensor Networks 3 D\n",
      " \n",
      " \n",
      "SGPA : 7.90  \n",
      "CGPA : 7.66\n",
      " \n",
      " \n",
      " \n",
      " \n",
      " \n",
      " \n",
      " \n",
      "The above result is only for display in the student portal but not equivalent to gradesheet.  \n",
      "The gradesheet will be sent to the Departments within two months from the date of declaration of results.\n",
      "Generated by: Rudra Kalyan  \n",
      "Generated on: 02-06-2025 09:13:37 Page 1\n",
      " - (similarity: 0.46) NATIONAL INSTITUTE OF TECHNOLOGY WARANGAL  \n",
      "Warangal, Telangana, 506004  \n",
      "Website: nitw.ac.in\n",
      "           Result\n",
      "Name: Rudra Kalyan  Department of Electronics and Communication \n",
      "Engineering [ECE]\n",
      "Roll No.: 21ECB0B56 III - Year, Even Semester\n",
      "Specialization: Electronics and Communication \n",
      "Engineering [BTechECE] Exam Session: 2023-2024 \n",
      " \n",
      "Subject Code Subject Name Credit Grade\n",
      "EC367 Advanced Digital Signal Processing 3 C\n",
      "EC351 Antennas and Propagation 4 B\n",
      "EC355 Communications Systems Lab 2 S\n",
      "EC353 Data Networks 4 A\n",
      "EC352 Digital Communications 3 B\n",
      "EC354 Embedded and Real Time Operating Systems 3 C\n",
      "EC356 Innovation and Start-up activity 2 B\n",
      "EE396 Swarm Intelligence Techniques 3 A\n",
      " \n",
      " \n",
      "SGPA : 8.21  \n",
      "CGPA : 7.72\n",
      " \n",
      " \n",
      " \n",
      " \n",
      " \n",
      " \n",
      " \n",
      "The above result is only for display in the student portal but not equivalent to gradesheet.  \n",
      "The gradesheet will be sent to the Departments within two months from the date of declaration of results.\n",
      "Generated by: Rudra Kalyan  \n",
      "Generated on: 02-06-2025 09:13:35 Page 1\n",
      " - (similarity: 0.46) NATIONAL INSTITUTE OF TECHNOLOGY WARANGAL  \n",
      "Warangal, Telangana, 506004  \n",
      "Website: nitw.ac.in\n",
      "           Result\n",
      "Name: Rudra Kalyan  Department of Electronics and Communication \n",
      "Engineering [ECE]\n",
      "Roll No.: 21ECB0B56 IV - Year, Odd Semester\n",
      "Specialization: Electronics and Communication \n",
      "Engineering [BTechECE] Exam Session: 2024-2025 \n",
      " \n",
      "Subject Code Subject Name Credit Grade\n",
      "EC418 Biomedical Instrumentation and Signal Processing 3 C\n",
      "EC420 Cellular and Mobile Communications 3 C\n",
      "EC430 Design Project 1 B\n",
      "SM445 Human Resource Management 3 C\n",
      "EC423 Image and Video Processing 3 C\n",
      "EC401 Microwave and Light Wave Technologies 3 C\n",
      "EC402 Microwave and Light Wave Technologies Lab 2 B\n",
      "EC449 Summer Internship /EPICS 2 C\n",
      " \n",
      " \n",
      "SGPA : 7.15  \n",
      "CGPA : 7.64\n",
      " \n",
      " \n",
      " \n",
      " \n",
      " \n",
      " \n",
      " \n",
      "The above result is only for display in the student portal but not equivalent to gradesheet.  \n",
      "The gradesheet will be sent to the Departments within two months from the date of declaration of results.\n",
      "Generated by: Rudra Kalyan  \n",
      "Generated on: 02-06-2025 09:13:36 Page 1\n"
     ]
    }
   ],
   "source": [
    "input_query = input('Ask me a question: ')\n",
    "retrieved_knowledge = retrieve(input_query)\n",
    "\n",
    "print('Retrieved knowledge:')\n",
    "for chunk, similarity in retrieved_knowledge:\n",
    "  print(f' - (similarity: {similarity:.2f}) {chunk}')\n",
    "\n",
    "instruction_prompt = f'''You are a helpful chatbot.\n",
    "Use only the following pieces of context to answer the question. Don't make up any new information and analyze well before you answer you are an intelligent chat bot remeber that\n",
    "{'\\n'.join([f' - {chunk}' for chunk, similarity in retrieved_knowledge])}\n",
    "'''\n"
   ]
  },
  {
   "cell_type": "code",
   "execution_count": 42,
   "id": "b268058e-176f-4207-9c32-c144e227efc0",
   "metadata": {},
   "outputs": [
    {
     "name": "stdout",
     "output_type": "stream",
     "text": [
      "Chatbot response:\n",
      "Rudra Kalyan obtained his highest SGPA in the Single Semester of even semester (IV) with a CGPA of 7.66 and an SGPAP of 8.21."
     ]
    }
   ],
   "source": [
    "stream = ollama.chat(\n",
    "  model=LANGUAGE_MODEL,\n",
    "  messages=[\n",
    "    {'role': 'system', 'content': instruction_prompt},\n",
    "    {'role': 'user', 'content': input_query},\n",
    "  ],\n",
    "  stream=True,\n",
    ")\n",
    "\n",
    "# print the response from the chatbot in real-time\n",
    "print('Chatbot response:')\n",
    "for chunk in stream:\n",
    "  print(chunk['message']['content'], end='', flush=True)\n"
   ]
  },
  {
   "cell_type": "code",
   "execution_count": null,
   "id": "0eaa5ea4-7ad8-47c3-ae68-013c8e7c0edc",
   "metadata": {},
   "outputs": [],
   "source": []
  }
 ],
 "metadata": {
  "kernelspec": {
   "display_name": "Python 3 (ipykernel)",
   "language": "python",
   "name": "python3"
  },
  "language_info": {
   "codemirror_mode": {
    "name": "ipython",
    "version": 3
   },
   "file_extension": ".py",
   "mimetype": "text/x-python",
   "name": "python",
   "nbconvert_exporter": "python",
   "pygments_lexer": "ipython3",
   "version": "3.12.7"
  }
 },
 "nbformat": 4,
 "nbformat_minor": 5
}
